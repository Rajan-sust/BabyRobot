{
  "nbformat": 4,
  "nbformat_minor": 0,
  "metadata": {
    "colab": {
      "name": "NCBI-GenBank.ipynb",
      "provenance": [],
      "collapsed_sections": [],
      "authorship_tag": "ABX9TyOqlwruQ0/mBZ+CesNGKe5J",
      "include_colab_link": true
    },
    "kernelspec": {
      "name": "python3",
      "display_name": "Python 3"
    },
    "language_info": {
      "name": "python"
    }
  },
  "cells": [
    {
      "cell_type": "markdown",
      "metadata": {
        "id": "view-in-github",
        "colab_type": "text"
      },
      "source": [
        "<a href=\"https://colab.research.google.com/github/Rajan-sust/BabyRobot/blob/master/NCBI_GenBank.ipynb\" target=\"_parent\"><img src=\"https://colab.research.google.com/assets/colab-badge.svg\" alt=\"Open In Colab\"/></a>"
      ]
    },
    {
      "cell_type": "code",
      "metadata": {
        "id": "6dHYs-IFhUjm"
      },
      "source": [
        "!pip install biopython"
      ],
      "execution_count": null,
      "outputs": []
    },
    {
      "cell_type": "code",
      "metadata": {
        "id": "2tu3LiqpqpDR"
      },
      "source": [
        "from Bio import SeqIO\n",
        "import wget"
      ],
      "execution_count": 25,
      "outputs": []
    },
    {
      "cell_type": "code",
      "metadata": {
        "id": "yyM47JnI4aTD"
      },
      "source": [
        "id = 'NZ_JH556657.1'\n",
        "\n",
        "url = f'https://eutils.ncbi.nlm.nih.gov/entrez/eutils/efetch.fcgi?db=nucleotide&id={id}&rettype=gb&retmode=text'\n",
        "\n",
        "wget.download(url, out=f'{id}.gb')\n",
        "\n",
        "# Ref: https://www.ncbi.nlm.nih.gov/books/NBK25499/#chapter4.EFetch"
      ],
      "execution_count": null,
      "outputs": []
    },
    {
      "cell_type": "code",
      "metadata": {
        "id": "7IeVwo5E623r"
      },
      "source": [
        "record = SeqIO.read(f\"{id}.gb\", \"genbank\")"
      ],
      "execution_count": 31,
      "outputs": []
    },
    {
      "cell_type": "code",
      "metadata": {
        "id": "DyaACKvD9MS0"
      },
      "source": [
        "genes = ['brxL', 'brxA', 'brxB', 'brxC', 'pglZ', 'pglX']"
      ],
      "execution_count": 41,
      "outputs": []
    },
    {
      "cell_type": "code",
      "metadata": {
        "id": "2jcoM8rN7FfI"
      },
      "source": [
        "# strand : [1, -1]\n",
        "gene_start_end_strand = set()\n",
        "for feature in record.features:\n",
        "  if 'gene' in feature.qualifiers and feature.qualifiers['gene'][0] in genes:\n",
        "    # print(feature.qualifiers['gene'][0], feature.location)\n",
        "    gene_start_end_strand.add((feature.qualifiers['gene'][0], int(feature.location.start),\n",
        "                               int(feature.location.end), feature.location.strand))\n"
      ],
      "execution_count": 51,
      "outputs": []
    },
    {
      "cell_type": "code",
      "metadata": {
        "colab": {
          "base_uri": "https://localhost:8080/"
        },
        "id": "GDJhuiYl_pOg",
        "outputId": "15acfe14-3312-4700-a201-7266a8a4a319"
      },
      "source": [
        "gene_start_end_strand"
      ],
      "execution_count": 52,
      "outputs": [
        {
          "output_type": "execute_result",
          "data": {
            "text/plain": [
              "{('brxC', 179922, 183474, -1),\n",
              " ('brxL', 169995, 172038, -1),\n",
              " ('pglX', 176206, 179833, -1),\n",
              " ('pglZ', 172059, 174621, -1)}"
            ]
          },
          "metadata": {},
          "execution_count": 52
        }
      ]
    },
    {
      "cell_type": "code",
      "metadata": {
        "id": "u3Gbq42m1zGf",
        "colab": {
          "base_uri": "https://localhost:8080/",
          "height": 35
        },
        "outputId": "296d5fdd-e8df-4467-952e-859fea265ebb"
      },
      "source": [
        "gene_name = 'brxC'\n",
        "start = 179922\n",
        "end = 183474\n",
        "strand = 2\n",
        "\n",
        "filename = f'{id}-{gene_name}.gb'\n",
        "\n",
        "url = f'https://eutils.ncbi.nlm.nih.gov/entrez/eutils/efetch.fcgi?db=nucleotide&id={id}&strand={strand}&seq_start={start}&seq_stop={end}&rettype=gb&retmode=text'\n",
        "\n",
        "wget.download(url, out=filename)"
      ],
      "execution_count": 53,
      "outputs": [
        {
          "output_type": "execute_result",
          "data": {
            "application/vnd.google.colaboratory.intrinsic+json": {
              "type": "string"
            },
            "text/plain": [
              "'NZ_JH556657.1-brxC.gb'"
            ]
          },
          "metadata": {},
          "execution_count": 53
        }
      ]
    },
    {
      "cell_type": "code",
      "metadata": {
        "id": "MiBCeMBQ3t-m"
      },
      "source": [
        ""
      ],
      "execution_count": null,
      "outputs": []
    }
  ]
}